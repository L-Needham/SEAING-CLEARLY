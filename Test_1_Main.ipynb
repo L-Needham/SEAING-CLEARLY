{
 "cells": [
  {
   "cell_type": "code",
   "execution_count": null,
   "metadata": {},
   "outputs": [],
   "source": [
    "import numpy as np\n",
    "import cv2\n",
    "from PIL import Image\n",
    "import os\n",
    "import skimage as ski\n",
    "import matplotlib.pyplot as plt\n",
    "import pywt\n",
    "from skimage import io, restoration, img_as_float\n",
    "from natsort import natsorted, ns\n",
    "from inference import get_model\n",
    "from inference_sdk import InferenceHTTPClient\n",
    "from inference.models.utils import get_roboflow_model\n",
    "from ultralytics import YOLO, settings"
   ]
  },
  {
   "cell_type": "markdown",
   "metadata": {},
   "source": [
    "Load training images from dataset."
   ]
  },
  {
   "cell_type": "code",
   "execution_count": 2,
   "metadata": {},
   "outputs": [],
   "source": [
    "def load_images(folder):\n",
    "    images = []\n",
    "    try:\n",
    "        for filename in os.listdir(folder):\n",
    "            img_path = os.path.join(folder, filename)\n",
    "            try:\n",
    "                img = Image.open(img_path)\n",
    "                images.append(img)\n",
    "            except IOError as e:\n",
    "                print(f\"Could not open image {img_path}: {e}\")\n",
    "    except PermissionError as e:\n",
    "        print(f\"Permission denied: {e}\")\n",
    "    return images\n",
    "\n",
    "image_path = \"C:/Users/needh/OneDrive/Documents/Uni/2024/Sem_2_2024/ICT342/SEAING/Training Images/Underwater Marine Species.v6-marinedataset_v5.yolov8/train/images\"\n",
    "\n",
    "images = load_images(image_path)"
   ]
  },
  {
   "cell_type": "markdown",
   "metadata": {},
   "source": [
    "Apply image enhancements."
   ]
  },
  {
   "cell_type": "code",
   "execution_count": null,
   "metadata": {},
   "outputs": [],
   "source": [
    "# Enhancements only applied on one image for testing purposes atm and doesn't use the code above.\n",
    "\n",
    "image = io.imread('C:/Users/needh/OneDrive/Documents/Uni/2024/Sem_2_2024/ICT342/SEAING/Training Images/Underwater Marine Species.v6-marinedataset_v5.yolov8/train/images/0HM9KWRRG6FN_jpg.rf.58681507bb0c920c258c1699ec9a6175.jpg')\n",
    "image = img_as_float(image)\n",
    "\n",
    "# Denoise image\n",
    "denoised_image = restoration.denoise_wavelet(image)\n",
    "\n",
    "# Step 2: Reduce blue color\n",
    "# Split the image into R, G, B channels\n",
    "r, g, b = denoised_image[:, :, 0], denoised_image[:, :, 1], denoised_image[:, :, 2]\n",
    "\n",
    "# Reduce the blue channel intensity\n",
    "b = b * 0.5  # Adjust the factor as needed\n",
    "\n",
    "# Merge the channels back\n",
    "enhanced_image = np.stack((r, g, b), axis=-1)\n",
    "\n",
    "# Display the original and enhanced images\n",
    "fig, ax = plt.subplots(1, 2, figsize=(12, 6))\n",
    "ax[0].imshow(image)\n",
    "ax[0].set_title('Original Image')\n",
    "ax[0].axis('off')\n",
    "\n",
    "ax[1].imshow(enhanced_image)\n",
    "ax[1].set_title('Enhanced Image')\n",
    "ax[1].axis('off')\n",
    "\n",
    "plt.show()"
   ]
  },
  {
   "cell_type": "markdown",
   "metadata": {},
   "source": [
    "Load labels from dataset."
   ]
  },
  {
   "cell_type": "code",
   "execution_count": null,
   "metadata": {},
   "outputs": [],
   "source": [
    "def load_labels(folder):\n",
    "    labels = {}\n",
    "    try:\n",
    "        for filename in os.listdir(folder):\n",
    "            if filename.endswith(\".txt\"):\n",
    "                label_path = os.path.join(folder, filename)\n",
    "                with open(label_path, 'r') as file:\n",
    "                    label_data = file.readlines()\n",
    "                    labels[filename] = [line.strip() for line in label_data]\n",
    "    except PermissionError as e:\n",
    "        print(f\"Permission denied: {e}\")\n",
    "    return labels\n",
    "\n",
    "label_path = \"C:/Users/needh/OneDrive/Documents/Uni/2024/Sem_2_2024/ICT342/SEAING/Training Images/Underwater Marine Species.v6-marinedataset_v5.yolov8/train/labels\"\n",
    "labels = load_labels(label_path)\n",
    "print(labels)"
   ]
  },
  {
   "cell_type": "markdown",
   "metadata": {},
   "source": [
    "Setup/Check Ultralytics and set correct directory path."
   ]
  },
  {
   "cell_type": "code",
   "execution_count": null,
   "metadata": {},
   "outputs": [],
   "source": [
    "print(settings)\n",
    "\n",
    "value = settings[\"runs_dir\"]\n",
    "settings.update({\"datasets_dir\": \"C:/Users/needh/OneDrive/Documents/Uni/2024/Sem_2_2024/ICT342/SEAING/Training Images/Underwater Marine Species.v6-marinedataset_v5.yolov8\"})"
   ]
  },
  {
   "cell_type": "markdown",
   "metadata": {},
   "source": [
    "Import Roboflow pre-trained dataset \"Underwater Marine Species Computer Vision Project\""
   ]
  },
  {
   "cell_type": "code",
   "execution_count": null,
   "metadata": {},
   "outputs": [],
   "source": [
    "# Add your own image path to any arbitrary image. It currently only loads one image so we need to figure out how to load all images.\n",
    "image_path = \"C:/Users/needh/OneDrive/Documents/Uni/2024/Sem_2_2024/ICT342/SEAING/Training Images/Underwater Marine Species.v6-marinedataset_v5.yolov8/train/images/288856187_d1fb57a113_b_jpg.rf.1a861f6bf38998d756e6f76a84b73340.jpg\"\n",
    "\n",
    "# Roboflow model\n",
    "model_name = \"underwater-marine-species\"\n",
    "model_version = \"6\"\n",
    "\n",
    "# Get Roboflow face model (this will fetch the model from Roboflow)\n",
    "model = get_roboflow_model(\n",
    "    model_id=\"{}/{}\".format(model_name, model_version),\n",
    "\n",
    "    #Replace ROBOFLOW_API_KEY with your Roboflow API Key\n",
    "    api_key=\"J7ljP04frhJRcBuovOmD\"\n",
    ")"
   ]
  },
  {
   "cell_type": "code",
   "execution_count": 6,
   "metadata": {},
   "outputs": [],
   "source": [
    "frame = cv2.imread(image_path)\n",
    "\n",
    "results = model.infer(image=frame,\n",
    "                        confidence=0.5,\n",
    "                        iou_threshold=0.5)"
   ]
  },
  {
   "cell_type": "code",
   "execution_count": null,
   "metadata": {},
   "outputs": [],
   "source": [
    "if results[0].predictions:\n",
    "    prediction = results[0].predictions[0]\n",
    "    print(prediction)\n",
    "    \n",
    "    x_center = int(prediction.x)\n",
    "    y_center = int(prediction.y)\n",
    "    width = int(prediction.width)\n",
    "    height = int(prediction.height)\n",
    "\n",
    "    # Calculate top-left and bottom-right corners from center, width, and height\n",
    "    x0 = x_center - width // 2\n",
    "    y0 = y_center - height // 2\n",
    "    x1 = x_center + width // 2\n",
    "    y1 = y_center + height // 2\n",
    "    \n",
    "    # Currently only takes one input text as a label\n",
    "    cv2.rectangle(frame, (x0, y0), (x1, y1), (255,255,0), 10)\n",
    "    cv2.putText(frame, \"fish\", (x0, y0 - 10), cv2.FONT_HERSHEY_SIMPLEX, 1.5, (255, 255, 255), 2)"
   ]
  },
  {
   "cell_type": "markdown",
   "metadata": {},
   "source": [
    "Display chosen image."
   ]
  },
  {
   "cell_type": "code",
   "execution_count": 8,
   "metadata": {},
   "outputs": [],
   "source": [
    "# Show the image from image path. When we get multiple/all images to be loaded we don't want them all to be rendered simultaneously, so this will need to be modified.\n",
    "cv2.imshow('Image Frame', frame)\n",
    "cv2.waitKey(0) # waits until a key is pressed\n",
    "cv2.destroyAllWindows() # destroys the window showing image"
   ]
  }
 ],
 "metadata": {
  "kernelspec": {
   "display_name": "Python 3",
   "language": "python",
   "name": "python3"
  },
  "language_info": {
   "codemirror_mode": {
    "name": "ipython",
    "version": 3
   },
   "file_extension": ".py",
   "mimetype": "text/x-python",
   "name": "python",
   "nbconvert_exporter": "python",
   "pygments_lexer": "ipython3",
   "version": "3.11.9"
  }
 },
 "nbformat": 4,
 "nbformat_minor": 2
}
