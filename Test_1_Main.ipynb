{
 "cells": [
  {
   "cell_type": "code",
   "execution_count": 8,
   "metadata": {},
   "outputs": [],
   "source": [
    "import numpy as np\n",
    "import cv2\n",
    "from PIL import Image\n",
    "import os\n",
    "from inference import get_model\n",
    "from inference_sdk import InferenceHTTPClient\n",
    "from inference.models.utils import get_roboflow_model\n",
    "from ultralytics import YOLO, settings"
   ]
  },
  {
   "cell_type": "markdown",
   "metadata": {},
   "source": [
    "Setup Ultralytics. Check and set correct directory path."
   ]
  },
  {
   "cell_type": "code",
   "execution_count": 9,
   "metadata": {},
   "outputs": [
    {
     "name": "stdout",
     "output_type": "stream",
     "text": [
      "{'settings_version': '0.0.5', 'datasets_dir': 'C:/Users/needh/OneDrive/Documents/Uni/2024/Sem 2 2024/ICT342/SEAING/Training Images/Underwater Marine Species.v6-marinedataset_v5.yolov8', 'weights_dir': 'weights', 'runs_dir': 'runs', 'uuid': '738b640563e1796fc30b0655092bc4a3040d093a0d04e9478cda7fb1552f2c1e', 'sync': True, 'api_key': '', 'openai_api_key': '', 'clearml': True, 'comet': True, 'dvc': True, 'hub': True, 'mlflow': True, 'neptune': True, 'raytune': True, 'tensorboard': True, 'wandb': True, 'vscode_msg': True}\n"
     ]
    }
   ],
   "source": [
    "print(settings)\n",
    "\n",
    "value = settings[\"runs_dir\"]\n",
    "settings.update({\"datasets_dir\": \"C:/Users/needh/OneDrive/Documents/Uni/2024/Sem 2 2024/ICT342/SEAING/Training Images/Underwater Marine Species.v6-marinedataset_v5.yolov8\"})"
   ]
  },
  {
   "cell_type": "markdown",
   "metadata": {},
   "source": [
    "Import Roboflow pre-trained dataset \"Underwater Marine Species Computer Vision Project\""
   ]
  },
  {
   "cell_type": "code",
   "execution_count": 16,
   "metadata": {},
   "outputs": [],
   "source": [
    "# Add your own image path to any arbitrary image. It currently only loads one image so we need to figure out how to load all images.\n",
    "image_path = \"C:/Users/needh/OneDrive/Documents/Uni/2024/Sem 2 2024/ICT342/SEAING/Training Images/Underwater Marine Species.v6-marinedataset_v5.yolov8/train/images/288856187_d1fb57a113_b_jpg.rf.1a861f6bf38998d756e6f76a84b73340.jpg\"\n",
    "\n",
    "# Roboflow model\n",
    "model_name = \"underwater-marine-species\"\n",
    "model_version = \"6\"\n",
    "\n",
    "# Get Roboflow face model (this will fetch the model from Roboflow)\n",
    "model = get_roboflow_model(\n",
    "    model_id=\"{}/{}\".format(model_name, model_version),\n",
    "\n",
    "    #Replace ROBOFLOW_API_KEY with your Roboflow API Key\n",
    "    api_key=\"J7ljP04frhJRcBuovOmD\"\n",
    ")"
   ]
  },
  {
   "cell_type": "code",
   "execution_count": 17,
   "metadata": {},
   "outputs": [],
   "source": [
    "frame = cv2.imread(image_path)\n",
    "\n",
    "results = model.infer(image=frame,\n",
    "                        confidence=0.5,\n",
    "                        iou_threshold=0.5)"
   ]
  },
  {
   "cell_type": "code",
   "execution_count": 18,
   "metadata": {},
   "outputs": [
    {
     "name": "stdout",
     "output_type": "stream",
     "text": [
      "x=335.0 y=330.5 width=388.0 height=387.0 confidence=0.9382820725440979 class_name='fish' class_confidence=None class_id=1 tracker_id=None detection_id='17724e4d-35e4-4569-8739-e5da2bd75d19' parent_id=None\n"
     ]
    }
   ],
   "source": [
    "if results[0].predictions:\n",
    "    prediction = results[0].predictions[0]\n",
    "    print(prediction)\n",
    "    \n",
    "    x_center = int(prediction.x)\n",
    "    y_center = int(prediction.y)\n",
    "    width = int(prediction.width)\n",
    "    height = int(prediction.height)\n",
    "\n",
    "    # Calculate top-left and bottom-right corners from center, width, and height\n",
    "    x0 = x_center - width // 2\n",
    "    y0 = y_center - height // 2\n",
    "    x1 = x_center + width // 2\n",
    "    y1 = y_center + height // 2\n",
    "    \n",
    "    # Currently only takes one input text as a label\n",
    "    cv2.rectangle(frame, (x0, y0), (x1, y1), (255,255,0), 10)\n",
    "    cv2.putText(frame, \"fish\", (x0, y0 - 10), cv2.FONT_HERSHEY_SIMPLEX, 1.5, (255, 255, 255), 2)"
   ]
  },
  {
   "cell_type": "markdown",
   "metadata": {},
   "source": [
    "Display chosen image."
   ]
  },
  {
   "cell_type": "code",
   "execution_count": 19,
   "metadata": {},
   "outputs": [],
   "source": [
    "# Show the image from image path. When we get multiple/all images to be loaded we don't want them all to be rendered simultaneously, so this will need to be modified.\n",
    "cv2.imshow('Image Frame', frame)\n",
    "cv2.waitKey(0) # waits until a key is pressed\n",
    "cv2.destroyAllWindows() # destroys the window showing image"
   ]
  }
 ],
 "metadata": {
  "kernelspec": {
   "display_name": "Python 3",
   "language": "python",
   "name": "python3"
  },
  "language_info": {
   "codemirror_mode": {
    "name": "ipython",
    "version": 3
   },
   "file_extension": ".py",
   "mimetype": "text/x-python",
   "name": "python",
   "nbconvert_exporter": "python",
   "pygments_lexer": "ipython3",
   "version": "3.11.9"
  }
 },
 "nbformat": 4,
 "nbformat_minor": 2
}
