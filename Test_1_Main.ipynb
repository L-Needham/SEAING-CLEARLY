{
 "cells": [
  {
   "cell_type": "code",
   "execution_count": 1,
   "metadata": {},
   "outputs": [
    {
     "name": "stderr",
     "output_type": "stream",
     "text": [
      "SupervisionWarnings: BoundingBoxAnnotator is deprecated: `BoundingBoxAnnotator` is deprecated and has been renamed to `BoxAnnotator`. `BoundingBoxAnnotator` will be removed in supervision-0.26.0.\n"
     ]
    }
   ],
   "source": [
    "import numpy as np\n",
    "import cv2\n",
    "from PIL import Image\n",
    "import os\n",
    "from inference import get_model\n",
    "from inference_sdk import InferenceHTTPClient\n",
    "from inference.models.utils import get_roboflow_model\n",
    "from ultralytics import YOLO, settings\n"
   ]
  },
  {
   "cell_type": "markdown",
   "metadata": {},
   "source": [
    "Setup Ultralytics and check settings"
   ]
  },
  {
   "cell_type": "code",
   "execution_count": 2,
   "metadata": {},
   "outputs": [
    {
     "name": "stdout",
     "output_type": "stream",
     "text": [
      "{'settings_version': '0.0.5', 'datasets_dir': 'C:/Users/needh/OneDrive/Documents/Uni/2024/Sem 2 2024/ICT342/SEAING/Training Images/UIEB-raw-890', 'weights_dir': 'weights', 'runs_dir': 'runs', 'uuid': '738b640563e1796fc30b0655092bc4a3040d093a0d04e9478cda7fb1552f2c1e', 'sync': True, 'api_key': '', 'openai_api_key': '', 'clearml': True, 'comet': True, 'dvc': True, 'hub': True, 'mlflow': True, 'neptune': True, 'raytune': True, 'tensorboard': True, 'wandb': True, 'vscode_msg': True}\n"
     ]
    }
   ],
   "source": [
    "print(settings)\n",
    "\n",
    "value = settings[\"runs_dir\"]\n",
    "#settings.update({\"datasets_dir\": \"C:/Users/needh/OneDrive/Documents/Uni/2024/Sem 2 2024/ICT342/SEAING/Training Images/UIEB-raw-890\"})\n",
    "settings.update({\"datasets_dir\": \"C:/Users/needh/Downloads/Underwater Marine Species.v6-marinedataset_v5.yolov8/valid/images\"})"
   ]
  },
  {
   "cell_type": "markdown",
   "metadata": {},
   "source": [
    "Import Roboflow pre-trained dataset \"Underwater Marine Species Computer Vision Project\""
   ]
  },
  {
   "cell_type": "code",
   "execution_count": 5,
   "metadata": {},
   "outputs": [],
   "source": [
    "# Image path\n",
    "#image_path = \"C:/Users/needh/OneDrive/Documents/Uni/2024/Sem 2 2024/ICT342/SEAING/Training Images/UIEB-raw-890/116_img_.png\"\n",
    "image_path = \"C:/Users/needh/Downloads/Underwater Marine Species.v6-marinedataset_v5.yolov8/valid/images/diver-and-lobster-RC9R5N_jpg.rf.dab88346361b61498016b6cd0539e46a.jpg\"\n",
    "\n",
    "# Roboflow model\n",
    "model_name = \"underwater-marine-species\"\n",
    "model_version = \"6\"\n",
    "\n",
    "# Get Roboflow face model (this will fetch the model from Roboflow)\n",
    "model = get_roboflow_model(\n",
    "    model_id=\"{}/{}\".format(model_name, model_version),\n",
    "\n",
    "    #Replace ROBOFLOW_API_KEY with your Roboflow API Key\n",
    "    api_key=\"J7ljP04frhJRcBuovOmD\"\n",
    ")"
   ]
  },
  {
   "cell_type": "code",
   "execution_count": 6,
   "metadata": {},
   "outputs": [],
   "source": [
    "frame = cv2.imread(image_path)\n",
    "\n",
    "results = model.infer(image=frame,\n",
    "                        confidence=0.5,\n",
    "                        iou_threshold=0.5)"
   ]
  },
  {
   "cell_type": "code",
   "execution_count": 7,
   "metadata": {},
   "outputs": [
    {
     "name": "stdout",
     "output_type": "stream",
     "text": [
      "x=379.0 y=395.0 width=218.0 height=184.0 confidence=0.5668584108352661 class_name='lobster' class_confidence=None class_id=4 tracker_id=None detection_id='a55deeb0-1545-4ce8-9fa9-77b3ed11ae6f' parent_id=None\n"
     ]
    }
   ],
   "source": [
    "if results[0].predictions:\n",
    "    prediction = results[0].predictions[0]\n",
    "    print(prediction)\n",
    "    \n",
    "    x_center = int(prediction.x)\n",
    "    y_center = int(prediction.y)\n",
    "    width = int(prediction.width)\n",
    "    height = int(prediction.height)\n",
    "\n",
    "    # Calculate top-left and bottom-right corners from center, width, and height\n",
    "    x0 = x_center - width // 2\n",
    "    y0 = y_center - height // 2\n",
    "    x1 = x_center + width // 2\n",
    "    y1 = y_center + height // 2\n",
    "    \n",
    "    cv2.rectangle(frame, (x0, y0), (x1, y1), (255,255,0), 10)\n",
    "    cv2.putText(frame, \"fish\", (x0, y0 - 10), cv2.FONT_HERSHEY_SIMPLEX, 1.5, (255, 255, 255), 2)"
   ]
  },
  {
   "cell_type": "code",
   "execution_count": 8,
   "metadata": {},
   "outputs": [],
   "source": [
    "# Show image\n",
    "cv2.imshow('Image Frame', frame)\n",
    "cv2.waitKey(0) # waits until a key is pressed\n",
    "cv2.destroyAllWindows() # destroys the window showing image"
   ]
  }
 ],
 "metadata": {
  "kernelspec": {
   "display_name": "Python 3",
   "language": "python",
   "name": "python3"
  },
  "language_info": {
   "codemirror_mode": {
    "name": "ipython",
    "version": 3
   },
   "file_extension": ".py",
   "mimetype": "text/x-python",
   "name": "python",
   "nbconvert_exporter": "python",
   "pygments_lexer": "ipython3",
   "version": "3.11.9"
  }
 },
 "nbformat": 4,
 "nbformat_minor": 2
}
